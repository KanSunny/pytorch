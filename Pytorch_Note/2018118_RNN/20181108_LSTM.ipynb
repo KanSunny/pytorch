{
 "cells": [
  {
   "cell_type": "code",
   "execution_count": 2,
   "metadata": {},
   "outputs": [
    {
     "name": "stdout",
     "output_type": "stream",
     "text": [
      "torch.Size([5, 3, 20])\n",
      "torch.Size([2, 3, 20])\n",
      "torch.Size([2, 3, 20])\n"
     ]
    }
   ],
   "source": [
    "#coding: utf8\n",
    "import torch as t\n",
    "from torch import nn\n",
    "from torch.autograd import Variable\n",
    "\n",
    "# 输入词用10维词向量表示\n",
    "# 隐藏元用20维向量表示\n",
    "# 两层的LSTM\n",
    "rnn = nn.LSTM(10, 20, 2)\n",
    "\n",
    "# 输入每句话有5个词\n",
    "# 每个词用10维的词向量表示\n",
    "# 总共有三句话（batch size）\n",
    "input = Variable(t.randn(5, 3, 10))\n",
    "\n",
    "# 每个隐藏元（hidden state 和 cell state）的初始值\n",
    "# 形状（num_layers, batch_size, hidden_size）\n",
    "h0 = Variable(t.zeros(2, 3, 20))\n",
    "c0 = Variable(t.zeros(2, 3, 20))\n",
    "\n",
    "# output 是最后一层所有隐藏元的值\n",
    "# hn和cn是所有层（这里有两层）的最后一个隐藏元的值\n",
    "output, (hn, cn) = rnn(input, (h0, c0))\n",
    "print(output.size())\n",
    "print(hn.size())\n",
    "print(cn.size())\n"
   ]
  }
 ],
 "metadata": {
  "kernelspec": {
   "display_name": "Python 3",
   "language": "python",
   "name": "python3"
  },
  "language_info": {
   "codemirror_mode": {
    "name": "ipython",
    "version": 3
   },
   "file_extension": ".py",
   "mimetype": "text/x-python",
   "name": "python",
   "nbconvert_exporter": "python",
   "pygments_lexer": "ipython3",
   "version": "3.6.4"
  }
 },
 "nbformat": 4,
 "nbformat_minor": 2
}
