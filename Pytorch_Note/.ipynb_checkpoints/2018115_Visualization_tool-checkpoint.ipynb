{
 "cells": [
  {
   "cell_type": "code",
   "execution_count": 5,
   "metadata": {},
   "outputs": [
    {
     "data": {
      "text/plain": [
       "'sinx'"
      ]
     },
     "execution_count": 5,
     "metadata": {},
     "output_type": "execute_result"
    }
   ],
   "source": [
    "#1. line：类似于plot操作，用于记录某些标量的变化，例如损失、准确率等\n",
    "\n",
    "import visdom\n",
    "import torch as t\n",
    "\n",
    "# 启动 visdom 服务\n",
    "# 新建一个连接客户端 \n",
    "# 登录: localhost:8097，选择env=u'test1'\n",
    "\n",
    "vis = visdom.Visdom(env=u'test1')\n",
    "\n",
    "x = t.arange(1, 30, 0.01)\n",
    "y = t.sin(x)\n",
    "vis.line(X=x, Y=y, win='sinx', opts={'title': 'y=sin(x)'})"
   ]
  },
  {
   "cell_type": "code",
   "execution_count": 10,
   "metadata": {},
   "outputs": [
    {
     "ename": "AttributeError",
     "evalue": "'Visdom' object has no attribute 'updateTrace'",
     "output_type": "error",
     "traceback": [
      "\u001b[0;31m---------------------------------------------------------------------------\u001b[0m",
      "\u001b[0;31mAttributeError\u001b[0m                            Traceback (most recent call last)",
      "\u001b[0;32m<ipython-input-10-8c37ba309e4d>\u001b[0m in \u001b[0;36m<module>\u001b[0;34m()\u001b[0m\n\u001b[1;32m      9\u001b[0m \u001b[0mx\u001b[0m \u001b[0;34m=\u001b[0m \u001b[0mt\u001b[0m\u001b[0;34m.\u001b[0m\u001b[0marange\u001b[0m\u001b[0;34m(\u001b[0m\u001b[0;36m0\u001b[0m\u001b[0;34m,\u001b[0m \u001b[0;36m9\u001b[0m\u001b[0;34m,\u001b[0m \u001b[0;36m0.1\u001b[0m\u001b[0;34m)\u001b[0m\u001b[0;34m\u001b[0m\u001b[0m\n\u001b[1;32m     10\u001b[0m \u001b[0my\u001b[0m \u001b[0;34m=\u001b[0m \u001b[0;34m(\u001b[0m\u001b[0mx\u001b[0m \u001b[0;34m**\u001b[0m \u001b[0;36m2\u001b[0m\u001b[0;34m)\u001b[0m \u001b[0;34m/\u001b[0m \u001b[0;36m9\u001b[0m\u001b[0;34m\u001b[0m\u001b[0m\n\u001b[0;32m---> 11\u001b[0;31m \u001b[0mvis\u001b[0m\u001b[0;34m.\u001b[0m\u001b[0mupdateTrace\u001b[0m\u001b[0;34m(\u001b[0m\u001b[0mX\u001b[0m\u001b[0;34m=\u001b[0m\u001b[0mx\u001b[0m\u001b[0;34m,\u001b[0m \u001b[0mY\u001b[0m\u001b[0;34m=\u001b[0m\u001b[0my\u001b[0m\u001b[0;34m,\u001b[0m \u001b[0mwin\u001b[0m\u001b[0;34m=\u001b[0m\u001b[0;34m'polynomial'\u001b[0m\u001b[0;34m,\u001b[0m \u001b[0mname\u001b[0m\u001b[0;34m=\u001b[0m\u001b[0;34m'this is a new Trace'\u001b[0m\u001b[0;34m)\u001b[0m\u001b[0;34m\u001b[0m\u001b[0m\n\u001b[0m",
      "\u001b[0;31mAttributeError\u001b[0m: 'Visdom' object has no attribute 'updateTrace'"
     ]
    }
   ],
   "source": [
    "#1.1 更新line\n",
    "# append 追加数据\n",
    "for ii in range(0, 10):\n",
    "    # y = x\n",
    "    x = t.Tensor([ii])\n",
    "    y = x\n",
    "    vis.line(X=x, Y=y, win='polynomial', update='append' if ii>0 else None)\n",
    "\n",
    "# updateTrace 新增一条线\n",
    "x = t.arange(0, 9, 0.1)\n",
    "y = (x ** 2) / 9\n",
    "vis.updateTrace(X=x, Y=y, win='polynomial', name='this is a new Trace')"
   ]
  },
  {
   "cell_type": "code",
   "execution_count": 12,
   "metadata": {},
   "outputs": [
    {
     "data": {
      "text/plain": [
       "'random3'"
      ]
     },
     "execution_count": 12,
     "metadata": {},
     "output_type": "execute_result"
    }
   ],
   "source": [
    "#2. 可视化图片，可以是输入的图片，也可以是GAN生成的图片，还可以是卷积核信息\n",
    "\n",
    "# 可视化一张随机的黑白图片\n",
    "vis.image(t.randn(64, 64).numpy())\n",
    "\n",
    "# 可视化一张随机的彩色图片\n",
    "vis.image(t.randn(3, 64, 64).numpy(), win='random2')\n",
    "\n",
    "# 可视化36张随机的彩色图片，每一行6张\n",
    "vis.images(t.randn(36, 3, 64, 64).numpy(), nrow = 6, win = 'random3', opts={'title':'random_imgs'})"
   ]
  },
  {
   "cell_type": "code",
   "execution_count": 13,
   "metadata": {},
   "outputs": [
    {
     "data": {
      "text/plain": [
       "'visdom'"
      ]
     },
     "execution_count": 13,
     "metadata": {},
     "output_type": "execute_result"
    }
   ],
   "source": [
    "#3. 用于记录日志等文字信息，支持HTML信息\n",
    "\n",
    "vis.text(u'''<h1>Hello visdom</h1><br>hello world''', win='visdom', opts={'title': u'visdom简介'})"
   ]
  }
 ],
 "metadata": {
  "kernelspec": {
   "display_name": "Python 3",
   "language": "python",
   "name": "python3"
  },
  "language_info": {
   "codemirror_mode": {
    "name": "ipython",
    "version": 3
   },
   "file_extension": ".py",
   "mimetype": "text/x-python",
   "name": "python",
   "nbconvert_exporter": "python",
   "pygments_lexer": "ipython3",
   "version": "3.6.4"
  }
 },
 "nbformat": 4,
 "nbformat_minor": 2
}
