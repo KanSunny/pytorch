{
 "cells": [
  {
   "cell_type": "code",
   "execution_count": 3,
   "metadata": {},
   "outputs": [
    {
     "data": {
      "image/png": "[encoded data removed]",
      "text/plain": [
       "<matplotlib.figure.Figure at 0x7f9589291898>"
      ]
     },
     "metadata": {},
     "output_type": "display_data"
    },
    {
     "name": "stdout",
     "output_type": "stream",
     "text": [
      "2.0804975032806396 2.828537940979004\n"
     ]
    }
   ],
   "source": [
    "import torch as t\n",
    "%matplotlib inline\n",
    "from IPython import display\n",
    "from matplotlib import pyplot as plt\n",
    "from torch.autograd import Variable\n",
    "\n",
    "# 设置随机种子，保证不同计算机上运行时下面的输出一致\n",
    "t.manual_seed(2000)\n",
    "\n",
    "# 生成随机训练集\n",
    "def get_fake_data(batch_size = 8):\n",
    "    '''产生随机数: y=x*2+3, 加上了一些噪声'''\n",
    "    x = t.rand(batch_size, 1) * 20\n",
    "    y = x*2 + (1 + t.randn(batch_size, 1)) * 3\n",
    "    return x, y\n",
    "\n",
    "# 查看生成数据的分布\n",
    "x, y = get_fake_data()\n",
    "plt.scatter(x.squeeze().numpy(), y.squeeze().numpy(), c = 'red')\n",
    "\n",
    "# 随机初始化参数\n",
    "w = t.rand(1, 1)\n",
    "b = t.zeros(1, 1)\n",
    "lr = 0.001# 学习率\n",
    "\n",
    "for ii in range(20000):\n",
    "    x, y = get_fake_data()\n",
    "    \n",
    "    # forward: 计算loss\n",
    "    y_pred = x.mm(w) + b.expand_as(y)\n",
    "    loss = 0.5 * (y_pred - y) ** 2# 手动loss 均方误差\n",
    "    loss = loss.sum()\n",
    "    \n",
    "    # backward: 手动计算梯度, 如何自动计算梯度呢？？？\n",
    "    dloss = 1\n",
    "    dy_pred = dloss * (y_pred - y)\n",
    "    \n",
    "    dw = x.t().mm(dy_pred)\n",
    "    db = dy_pred.sum()\n",
    "    \n",
    "    # 更新参数\n",
    "    w.sub_(lr * dw)\n",
    "    b.sub_(lr * db)\n",
    "    \n",
    "    if ii % 1000 == 0:\n",
    "        \n",
    "        # 画图\n",
    "        display.clear_output(wait = True)\n",
    "        x = t.arange(0, 20).view(-1, 1)\n",
    "        y = x.mm(w) + b.expand_as(x)\n",
    "        plt.plot(x.numpy(), y.numpy())# predicted 绘制预测的线\n",
    "        \n",
    "        x2, y2 = get_fake_data(batch_size = 20)\n",
    "        plt.scatter(x2.numpy(), y2.numpy())# true data 绘制数据点\n",
    "        \n",
    "        plt.xlim(0, 20)# x轴坐标范围\n",
    "        plt.ylim(0, 41)# y轴坐标范围\n",
    "        plt.show()# 程序输出图\n",
    "        plt.pause(0.5)\n",
    "        \n",
    "print(w.squeeze()[0], b.squeeze()[0])"
   ]
  },
  {
   "cell_type": "code",
   "execution_count": 16,
   "metadata": {},
   "outputs": [
    {
     "name": "stdout",
     "output_type": "stream",
     "text": [
      "Object `mm` not found.\n"
     ]
    }
   ],
   "source": [
    "\n"
   ]
  }
 ],
 "metadata": {
  "kernelspec": {
   "display_name": "Python 3",
   "language": "python",
   "name": "python3"
  },
  "language_info": {
   "codemirror_mode": {
    "name": "ipython",
    "version": 3
   },
   "file_extension": ".py",
   "mimetype": "text/x-python",
   "name": "python",
   "nbconvert_exporter": "python",
   "pygments_lexer": "ipython3",
   "version": "3.6.4"
  }
 },
 "nbformat": 4,
 "nbformat_minor": 2
}
