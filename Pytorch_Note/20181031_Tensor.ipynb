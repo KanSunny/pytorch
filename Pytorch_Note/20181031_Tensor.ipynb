{
 "cells": [
  {
   "cell_type": "code",
   "execution_count": 19,
   "metadata": {},
   "outputs": [
    {
     "data": {
      "text/plain": [
       "\n",
       " 0  1  2\n",
       " 3  4  5\n",
       "[torch.FloatTensor of size 2x3]"
      ]
     },
     "execution_count": 19,
     "metadata": {},
     "output_type": "execute_result"
    }
   ],
   "source": [
    "import torch as t\n",
    "\n",
    "a = t.arange(0,6)\n",
    "b = a.view(-1,3)\n",
    "b\n"
   ]
  },
  {
   "cell_type": "code",
   "execution_count": 28,
   "metadata": {},
   "outputs": [
    {
     "data": {
      "text/plain": [
       "\n",
       "(0 ,0 ,.,.) = \n",
       "  0  1  2\n",
       "\n",
       "(0 ,1 ,.,.) = \n",
       "  3  4  5\n",
       "[torch.FloatTensor of size 1x2x1x3]"
      ]
     },
     "execution_count": 28,
     "metadata": {},
     "output_type": "execute_result"
    }
   ],
   "source": [
    "b = b.view(1,2,1,3)\n",
    "b"
   ]
  },
  {
   "cell_type": "markdown",
   "metadata": {},
   "source": []
  },
  {
   "cell_type": "code",
   "execution_count": 53,
   "metadata": {},
   "outputs": [
    {
     "data": {
      "text/plain": [
       "\n",
       " 0  1  2\n",
       " 3  4  5\n",
       "[torch.FloatTensor of size 2x3]"
      ]
     },
     "execution_count": 53,
     "metadata": {},
     "output_type": "execute_result"
    }
   ],
   "source": [
    "b.squeeze_(1)"
   ]
  },
  {
   "cell_type": "code",
   "execution_count": 61,
   "metadata": {},
   "outputs": [
    {
     "data": {
      "text/plain": [
       "\n",
       " 0\n",
       " 2\n",
       " 2\n",
       "[torch.FloatTensor of size 3x1]"
      ]
     },
     "execution_count": 61,
     "metadata": {},
     "output_type": "execute_result"
    }
   ],
   "source": [
    "c = b\n",
    "d = c[0]\n",
    "d.unsqueeze_(1)\n",
    "d[1] = 2\n",
    "d"
   ]
  },
  {
   "cell_type": "code",
   "execution_count": 66,
   "metadata": {},
   "outputs": [
    {
     "data": {
      "text/plain": [
       "\n",
       " 0  1  2  3\n",
       "[torch.LongTensor of size 1x4]"
      ]
     },
     "execution_count": 66,
     "metadata": {},
     "output_type": "execute_result"
    }
   ],
   "source": [
    "index = t.LongTensor([[0,1,2,3]])\n",
    "print(index)\n",
    "a = t.arange(0, 6).view(2, 3)\n",
    "t.cos(a)\n",
    "a % 3\n",
    "t.clamp(a, 2, 4)\n",
    "b = t.arange(0, 6)\n",
    "b = b.view(-1, 3)\n",
    "print(b)\n",
    "print(b.sum(dim=0, keepdim = True))\n",
    "print(b.sum(dim=1, keepdim = True))\n"
   ]
  },
  {
   "cell_type": "code",
   "execution_count": 115,
   "metadata": {},
   "outputs": [
    {
     "name": "stdout",
     "output_type": "stream",
     "text": [
      "\n",
      "  0   3   6\n",
      "  9  12  15\n",
      "[torch.FloatTensor of size 2x3]\n",
      "\n",
      "\n",
      " 15  12   9\n",
      "  6   3   0\n",
      "[torch.FloatTensor of size 2x3]\n",
      "\n",
      "\n",
      " 0  0  0\n",
      " 1  1  1\n",
      "[torch.ByteTensor of size 2x3]\n",
      "\n",
      "\n",
      "  9\n",
      " 12\n",
      " 15\n",
      "[torch.FloatTensor of size 3]\n",
      "\n",
      "15.0\n",
      "(\n",
      " 15\n",
      "  6\n",
      "[torch.FloatTensor of size 2]\n",
      ", \n",
      " 0\n",
      " 0\n",
      "[torch.LongTensor of size 2]\n",
      ")\n",
      "\n",
      " 15  12   9\n",
      "  9  12  15\n",
      "[torch.FloatTensor of size 2x3]\n",
      "\n",
      "\n",
      " 15   9\n",
      " 12  12\n",
      "  9  15\n",
      "[torch.FloatTensor of size 3x2]\n",
      "\n"
     ]
    },
    {
     "data": {
      "text/plain": [
       "False"
      ]
     },
     "execution_count": 115,
     "metadata": {},
     "output_type": "execute_result"
    }
   ],
   "source": [
    "a = t.linspace(0, 15, 6).view(2, 3)\n",
    "print(a)\n",
    "b = t.linspace(15, 0, 6).view(2, 3)\n",
    "print(b)\n",
    "print(a>b)# a>b的元素\n",
    "print(a[a>b])# a>b的a中元素\n",
    "print(t.max(a))# a中最大元素\n",
    "print(t.max(b, dim=1))\n",
    "a = t.max(a, b)\n",
    "print(a)\n",
    "b = t.max(a, b).t()\n",
    "print(b)\n",
    "b.is_contiguous()"
   ]
  },
  {
   "cell_type": "code",
   "execution_count": 133,
   "metadata": {},
   "outputs": [],
   "source": [
    "import numpy as np\n",
    "a = np.ones([2,3], dtype = np.float32)\n",
    "a[0,1] = 100"
   ]
  },
  {
   "cell_type": "code",
   "execution_count": 136,
   "metadata": {},
   "outputs": [
    {
     "name": "stdout",
     "output_type": "stream",
     "text": [
      "\n",
      "   1  100    1\n",
      "   1    1    1\n",
      "[torch.FloatTensor of size 2x3]\n",
      "\n"
     ]
    },
    {
     "data": {
      "text/plain": [
       "array([[  1., 100.,   1.],\n",
       "       [  1.,   1.,   1.]], dtype=float32)"
      ]
     },
     "execution_count": 136,
     "metadata": {},
     "output_type": "execute_result"
    }
   ],
   "source": [
    "b = t.from_numpy(a)\n",
    "print(b)\n",
    "c = b.numpy()\n",
    "c"
   ]
  },
  {
   "cell_type": "code",
   "execution_count": 144,
   "metadata": {},
   "outputs": [
    {
     "name": "stdout",
     "output_type": "stream",
     "text": [
      "\n",
      " 0\n",
      " 1\n",
      " 2\n",
      " 3\n",
      " 4\n",
      " 5\n",
      "[torch.FloatTensor of size 6]\n",
      "\n",
      "\n",
      " 2\n",
      " 3\n",
      " 4\n",
      " 5\n",
      "[torch.FloatTensor of size 4]\n",
      "\n"
     ]
    }
   ],
   "source": [
    "a = t.arange(0, 6)\n",
    "a.storage()\n",
    "print(a)\n",
    "\n",
    "b = a.view(2, 3)\n",
    "b.storage()\n",
    "\n",
    "id(a.storage()) == id(b.storage())\n",
    "\n",
    "c = a[2:]\n",
    "print(c)"
   ]
  }
 ],
 "metadata": {
  "kernelspec": {
   "display_name": "Python 3",
   "language": "python",
   "name": "python3"
  },
  "language_info": {
   "codemirror_mode": {
    "name": "ipython",
    "version": 3
   },
   "file_extension": ".py",
   "mimetype": "text/x-python",
   "name": "python",
   "nbconvert_exporter": "python",
   "pygments_lexer": "ipython3",
   "version": "3.6.4"
  }
 },
 "nbformat": 4,
 "nbformat_minor": 2
}
